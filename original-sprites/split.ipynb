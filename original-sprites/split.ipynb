{
 "cells": [
  {
   "cell_type": "code",
   "execution_count": null,
   "metadata": {},
   "outputs": [],
   "source": [
    "import ndspy.narc\n",
    "import ndspy.lz10\n",
    "from bin_to_img import *\n",
    "import os.path\n",
    "import PIL.Image\n",
    "%load_ext autoreload\n",
    "%autoreload 2"
   ]
  },
  {
   "attachments": {},
   "cell_type": "markdown",
   "metadata": {},
   "source": [
    "## Dump sprites"
   ]
  },
  {
   "cell_type": "code",
   "execution_count": null,
   "metadata": {},
   "outputs": [],
   "source": [
    "def dump(path, w, h, f):\n",
    "    narc = ndspy.narc.NARC.fromFile(path)\n",
    "    print(\"Found {} files\".format( len(narc.files)))\n",
    "\n",
    "    for id in range(0, len(narc.files)):\n",
    "        try:\n",
    "            raw = ndspy.lz10.decompress(narc.files[id])\n",
    "        except:\n",
    "            raw = narc.files[id]\n",
    "\n",
    "        print(\"file {}: {} bytes\".format(id, len(bytearray(raw))))\n",
    "        try:\n",
    "            img_ = bin_to_img(raw, width=w, height=h, frames=f)\n",
    "            img = unslice_image(img_, width=w, height=h, frames=f)\n",
    "            display(img.resize((w*5, h*f*10), resample=PIL.Image.NEAREST))\n",
    "        except:\n",
    "            print(\"Error for file {}\".format(id))\n"
   ]
  },
  {
   "cell_type": "code",
   "execution_count": null,
   "metadata": {
    "scrolled": true
   },
   "outputs": [],
   "source": [
    "dump(\"../a256_pwsprites.narc\", w=64, h=48, f=2)\n",
    "#dump(\"../a016_fonts.narc\", w=256, h=8, f=1)"
   ]
  },
  {
   "attachments": {},
   "cell_type": "markdown",
   "metadata": {},
   "source": [
    "## String to image"
   ]
  },
  {
   "cell_type": "code",
   "execution_count": null,
   "metadata": {},
   "outputs": [],
   "source": [
    "import str_to_img\n",
    "import PIL.Image\n",
    "\n",
    "img = str_to_img.str_to_img(\"Rugged Path\", \"test.bmp\")\n",
    "display(img.resize( (600, 160), resample=PIL.Image.NEAREST))"
   ]
  },
  {
   "attachments": {},
   "cell_type": "markdown",
   "metadata": {},
   "source": [
    "## Encode/decode\n",
    "Prefer to use the `pw-lcd` C code for this"
   ]
  },
  {
   "cell_type": "code",
   "execution_count": null,
   "metadata": {},
   "outputs": [],
   "source": [
    "from img_to_bin import *\n",
    "b = img_to_bin(img, width=80, height=16, frames=1)\n",
    "c = bin_to_img(b, width=80, height=16, frames=1)\n",
    "display(c.resize( (160, 600), resample=PIL.Image.NEAREST))"
   ]
  },
  {
   "cell_type": "code",
   "execution_count": null,
   "metadata": {},
   "outputs": [],
   "source": []
  }
 ],
 "metadata": {
  "kernelspec": {
   "display_name": "Python 3",
   "language": "python",
   "name": "python3"
  },
  "language_info": {
   "codemirror_mode": {
    "name": "ipython",
    "version": 3
   },
   "file_extension": ".py",
   "mimetype": "text/x-python",
   "name": "python",
   "nbconvert_exporter": "python",
   "pygments_lexer": "ipython3",
   "version": "3.10.9"
  }
 },
 "nbformat": 4,
 "nbformat_minor": 4
}
